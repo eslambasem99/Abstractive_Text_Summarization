{
  "nbformat": 4,
  "nbformat_minor": 0,
  "metadata": {
    "colab": {
      "provenance": [],
      "authorship_tag": "ABX9TyM8LrsS7q5QLAWgjAK9uuli",
      "include_colab_link": true
    },
    "kernelspec": {
      "name": "python3",
      "display_name": "Python 3"
    },
    "language_info": {
      "name": "python"
    }
  },
  "cells": [
    {
      "cell_type": "markdown",
      "metadata": {
        "id": "view-in-github",
        "colab_type": "text"
      },
      "source": [
        "<a href=\"https://colab.research.google.com/github/eslambasem99/Abstractive_Text_Summarization/blob/main/Extractive.ipynb\" target=\"_parent\"><img src=\"https://colab.research.google.com/assets/colab-badge.svg\" alt=\"Open In Colab\"/></a>"
      ]
    },
    {
      "cell_type": "code",
      "execution_count": null,
      "metadata": {
        "id": "FtMh9ThjPr_r"
      },
      "outputs": [],
      "source": [
        "import nltk\n",
        "from nltk.corpus import stopwords\n",
        "from nltk.tokenize import word_tokenize, sent_tokenize\n",
        "from collections import Counter"
      ]
    },
    {
      "cell_type": "code",
      "source": [
        "nltk.download('punkt')\n",
        "nltk.download('stopwords')\n",
        "nltk.download('punkt_tab')"
      ],
      "metadata": {
        "colab": {
          "base_uri": "https://localhost:8080/"
        },
        "id": "NXhnXMNSPx2E",
        "outputId": "57223f35-dc5e-4453-849d-573534faa68b"
      },
      "execution_count": null,
      "outputs": [
        {
          "output_type": "stream",
          "name": "stderr",
          "text": [
            "[nltk_data] Downloading package punkt to /root/nltk_data...\n",
            "[nltk_data]   Package punkt is already up-to-date!\n",
            "[nltk_data] Downloading package stopwords to /root/nltk_data...\n",
            "[nltk_data]   Package stopwords is already up-to-date!\n",
            "[nltk_data] Downloading package punkt_tab to /root/nltk_data...\n",
            "[nltk_data]   Unzipping tokenizers/punkt_tab.zip.\n"
          ]
        },
        {
          "output_type": "execute_result",
          "data": {
            "text/plain": [
              "True"
            ]
          },
          "metadata": {},
          "execution_count": 6
        }
      ]
    },
    {
      "cell_type": "code",
      "source": [
        "text = \"\"\"\n",
        "التكنولوجيا أصبحت جزءًا لا يتجزأ من حياتنا اليومية. فهي تساعدنا في التواصل مع الآخرين بسهولة وسرعة من خلال الهواتف الذكية والإنترنت.\n",
        "بالإضافة إلى ذلك، تسهم التكنولوجيا في تحسين الكفاءة والإنتاجية في العمل، حيث أصبحت الأدوات التكنولوجية أساسية في أداء العديد من الوظائف.\n",
        "ومع ذلك، فإن استخدام التكنولوجيا بشكل مفرط قد يؤدي إلى مشاكل صحية واجتماعية، مثل الإدمان والعزلة.\n",
        "\"\"\""
      ],
      "metadata": {
        "id": "LXXMFfxkPzia"
      },
      "execution_count": null,
      "outputs": []
    },
    {
      "cell_type": "code",
      "source": [
        "sentences = sent_tokenize(text)\n",
        "words = word_tokenize(text.lower())"
      ],
      "metadata": {
        "id": "1Y2PAvt5P01I"
      },
      "execution_count": null,
      "outputs": []
    },
    {
      "cell_type": "code",
      "source": [
        "stop_words = set(stopwords.words(\"arabic\"))\n",
        "filtered_words = [word for word in words if word.isalnum() and word not in stop_words]"
      ],
      "metadata": {
        "id": "2TUILDlXP1_p"
      },
      "execution_count": null,
      "outputs": []
    },
    {
      "cell_type": "code",
      "source": [
        "word_frequencies = Counter(filtered_words)\n"
      ],
      "metadata": {
        "id": "gbxqYXLpP3Lw"
      },
      "execution_count": null,
      "outputs": []
    },
    {
      "cell_type": "code",
      "source": [
        "word_frequencies"
      ],
      "metadata": {
        "colab": {
          "base_uri": "https://localhost:8080/"
        },
        "id": "FWR2TwauRUc8",
        "outputId": "ec49c6ed-52ac-4b03-d383-0e968e338921"
      },
      "execution_count": null,
      "outputs": [
        {
          "output_type": "execute_result",
          "data": {
            "text/plain": [
              "Counter({'التكنولوجيا': 3,\n",
              "         'أصبحت': 2,\n",
              "         'يتجزأ': 1,\n",
              "         'حياتنا': 1,\n",
              "         'اليومية': 1,\n",
              "         'فهي': 1,\n",
              "         'تساعدنا': 1,\n",
              "         'التواصل': 1,\n",
              "         'الآخرين': 1,\n",
              "         'بسهولة': 1,\n",
              "         'وسرعة': 1,\n",
              "         'خلال': 1,\n",
              "         'الهواتف': 1,\n",
              "         'الذكية': 1,\n",
              "         'والإنترنت': 1,\n",
              "         'بالإضافة': 1,\n",
              "         'تسهم': 1,\n",
              "         'تحسين': 1,\n",
              "         'الكفاءة': 1,\n",
              "         'والإنتاجية': 1,\n",
              "         'الأدوات': 1,\n",
              "         'التكنولوجية': 1,\n",
              "         'أساسية': 1,\n",
              "         'أداء': 1,\n",
              "         'العديد': 1,\n",
              "         'الوظائف': 1,\n",
              "         'ومع': 1,\n",
              "         'استخدام': 1,\n",
              "         'بشكل': 1,\n",
              "         'مفرط': 1,\n",
              "         'يؤدي': 1,\n",
              "         'مشاكل': 1,\n",
              "         'صحية': 1,\n",
              "         'الإدمان': 1,\n",
              "         'والعزلة': 1})"
            ]
          },
          "metadata": {},
          "execution_count": 13
        }
      ]
    },
    {
      "cell_type": "code",
      "source": [
        "sentence_scores = {}\n",
        "for sentence in sentences:\n",
        "    for word in word_tokenize(sentence.lower()):\n",
        "        if word in word_frequencies:\n",
        "           sentence_scores[sentence] = sentence_scores.get(sentence, 0) + word_frequencies[word]\n"
      ],
      "metadata": {
        "id": "dMYFQNNGP4QB"
      },
      "execution_count": null,
      "outputs": []
    },
    {
      "cell_type": "code",
      "source": [
        "sentence_scores"
      ],
      "metadata": {
        "id": "5hCmpwyZSOnh",
        "outputId": "cc9e3fbf-c36d-4551-8970-5508181104ed",
        "colab": {
          "base_uri": "https://localhost:8080/"
        }
      },
      "execution_count": null,
      "outputs": [
        {
          "output_type": "execute_result",
          "data": {
            "text/plain": [
              "{'\\nالتكنولوجيا أصبحت جزءًا لا يتجزأ من حياتنا اليومية.': 8,\n",
              " 'فهي تساعدنا في التواصل مع الآخرين بسهولة وسرعة من خلال الهواتف الذكية والإنترنت.': 10,\n",
              " 'بالإضافة إلى ذلك، تسهم التكنولوجيا في تحسين الكفاءة والإنتاجية في العمل، حيث أصبحت الأدوات التكنولوجية أساسية في أداء العديد من الوظائف.': 16,\n",
              " 'ومع ذلك، فإن استخدام التكنولوجيا بشكل مفرط قد يؤدي إلى مشاكل صحية واجتماعية، مثل الإدمان والعزلة.': 12}"
            ]
          },
          "metadata": {},
          "execution_count": 16
        }
      ]
    },
    {
      "cell_type": "code",
      "source": [
        "summary_sentences = sorted(sentence_scores, key=sentence_scores.get, reverse=True)[:2]\n",
        "summary = \" \".join(summary_sentences)"
      ],
      "metadata": {
        "id": "9oKORPAgP6uQ"
      },
      "execution_count": null,
      "outputs": []
    },
    {
      "cell_type": "code",
      "source": [
        "print(summary)\n"
      ],
      "metadata": {
        "colab": {
          "base_uri": "https://localhost:8080/"
        },
        "id": "rlwTYZjFQLO5",
        "outputId": "a425ff0a-0363-46a7-e3f9-011ba288eb5c"
      },
      "execution_count": null,
      "outputs": [
        {
          "output_type": "stream",
          "name": "stdout",
          "text": [
            "بالإضافة إلى ذلك، تسهم التكنولوجيا في تحسين الكفاءة والإنتاجية في العمل، حيث أصبحت الأدوات التكنولوجية أساسية في أداء العديد من الوظائف. ومع ذلك، فإن استخدام التكنولوجيا بشكل مفرط قد يؤدي إلى مشاكل صحية واجتماعية، مثل الإدمان والعزلة.\n"
          ]
        }
      ]
    },
    {
      "cell_type": "code",
      "source": [],
      "metadata": {
        "id": "rqoz7MUqQMqx"
      },
      "execution_count": null,
      "outputs": []
    }
  ]
}